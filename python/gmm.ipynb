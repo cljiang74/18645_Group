{
 "cells": [
  {
   "cell_type": "code",
   "execution_count": 1,
   "id": "181c473f",
   "metadata": {},
   "outputs": [
    {
     "ename": "ModuleNotFoundError",
     "evalue": "No module named 'sklearn'",
     "output_type": "error",
     "traceback": [
      "\u001b[0;31m---------------------------------------------------------------------------\u001b[0m",
      "\u001b[0;31mModuleNotFoundError\u001b[0m                       Traceback (most recent call last)",
      "\u001b[0;32m/var/folders/5f/93s9jlnn671f4db99zjt46xh0000gn/T/ipykernel_7813/2139988497.py\u001b[0m in \u001b[0;36m<module>\u001b[0;34m\u001b[0m\n\u001b[0;32m----> 1\u001b[0;31m \u001b[0;32mfrom\u001b[0m \u001b[0msklearn\u001b[0m \u001b[0;32mimport\u001b[0m \u001b[0mmixture\u001b[0m\u001b[0;34m\u001b[0m\u001b[0;34m\u001b[0m\u001b[0m\n\u001b[0m\u001b[1;32m      2\u001b[0m \u001b[0;32mimport\u001b[0m \u001b[0mnumpy\u001b[0m \u001b[0;32mas\u001b[0m \u001b[0mnp\u001b[0m\u001b[0;34m\u001b[0m\u001b[0;34m\u001b[0m\u001b[0m\n\u001b[1;32m      3\u001b[0m \u001b[0;32mimport\u001b[0m \u001b[0mmatplotlib\u001b[0m\u001b[0;34m.\u001b[0m\u001b[0mpyplot\u001b[0m \u001b[0;32mas\u001b[0m \u001b[0mplt\u001b[0m\u001b[0;34m\u001b[0m\u001b[0;34m\u001b[0m\u001b[0m\n\u001b[1;32m      4\u001b[0m \u001b[0;32mfrom\u001b[0m \u001b[0mscipy\u001b[0m\u001b[0;34m.\u001b[0m\u001b[0mstats\u001b[0m \u001b[0;32mimport\u001b[0m \u001b[0mmultivariate_normal\u001b[0m\u001b[0;34m\u001b[0m\u001b[0;34m\u001b[0m\u001b[0m\n\u001b[1;32m      5\u001b[0m \u001b[0;34m\u001b[0m\u001b[0m\n",
      "\u001b[0;31mModuleNotFoundError\u001b[0m: No module named 'sklearn'"
     ]
    }
   ],
   "source": [
    "from sklearn import mixture\n",
    "import numpy as np\n",
    "import matplotlib.pyplot as plt\n",
    "from scipy.stats import multivariate_normal\n",
    "\n",
    "Dataset = np.loadtxt('gmm_data.txt')\n",
    "model = mixture.GaussianMixture(n_components=3, covariance_type='spherical', init_params='random', verbose=1)\n",
    "model.fit(Dataset)\n",
    "print('weights_pi: {}.'.format(model.weights_))\n",
    "print('means: {}.'.format(model.means_))\n",
    "print('covariances: {}.'.format(model.covariances_))\n",
    "weights_ = model.weights_\n",
    "means_ = model.means_\n",
    "covariances_ = model.covariances_\n",
    "pred = model.predict(Dataset)\n",
    "\n",
    "for i, (color) in enumerate(zip(['blue', 'green', 'red'])):\n",
    "    plt.scatter(Dataset[pred == i, 0], Dataset[pred == i, 1], 5, color=color)\n",
    "plt.savefig('First and second dimensions plot.jpg', dpi=500)\n",
    "plt.clf()\n",
    "for i, (color) in enumerate(zip(['blue', 'green', 'red'])):\n",
    "    plt.scatter(Dataset[pred == i, 2], Dataset[pred == i, 3], 5, color=color)\n",
    "plt.savefig('Third and fourth dimensions plot.jpg', dpi=500)\n",
    "plt.clf()\n",
    "for i, (color) in enumerate(zip(['blue', 'green', 'red'])):\n",
    "    plt.scatter(Dataset[pred == i, 3], Dataset[pred == i, 4], 5, color=color)\n",
    "plt.savefig('Fourth and fifth dimensions plot.jpg', dpi=500)\n",
    "\n",
    "mu_t = [np.random.rand(5) for _ in range(3)]\n",
    "mu_t1 = [np.random.rand(5) for _ in range(3)]\n",
    "while np.abs(np.mean(mu_t) - np.mean(mu_t1)) > 0.001:\n",
    "    mu_t = mu_t1\n",
    "    pdf = [multivariate_normal.pdf(Dataset, mean=mu_t[i], cov=covariances_[i]) for i in range(3)]\n",
    "    E = [pdf[i] * weights_[i] / (sum(pdf[i] * weights_[i] for i in range(3))) for i in range(3)]\n",
    "    mu_t1 = [sum(E[i][:, None]*Dataset)/sum(E[i]) for i in range(3)]\n",
    "print('mu_t1: {}'.format(mu_t1))\n",
    "\n",
    "mu_t = [np.random.rand(5) for _ in range(3)]\n",
    "mu_t1 = [np.random.rand(5) for _ in range(3)]\n",
    "pi_t = [np.random.rand(1) for _ in range(3)]\n",
    "pi_t1 = [np.random.rand(1) for _ in range(3)]\n",
    "while np.abs(np.mean(mu_t) - np.mean(mu_t1)) and np.abs(np.mean(pi_t) - np.mean(pi_t1)) > 0.001:\n",
    "    mu_t = mu_t1\n",
    "    pi_t = pi_t1\n",
    "    pdf = [multivariate_normal.pdf(Dataset, mean=mu_t[i], cov=covariances_[i]) for i in range(3)]\n",
    "    E = [pdf[i] * pi_t[i] / (sum(pdf[i] * pi_t[i] for i in range(3))) for i in range(3)]\n",
    "    mu_t1 = [sum(E[i][:, None]*Dataset)/sum(E[i]) for i in range(3)]\n",
    "    pi_t1 = [sum(E[i])/len(Dataset) for i in range(3)]\n",
    "print('mu_t1: {}'.format(mu_t1))\n",
    "print('pi_t1: {}'.format(pi_t1))\n"
   ]
  }
 ],
 "metadata": {
  "kernelspec": {
   "display_name": "Python 3 (ipykernel)",
   "language": "python",
   "name": "python3"
  },
  "language_info": {
   "codemirror_mode": {
    "name": "ipython",
    "version": 3
   },
   "file_extension": ".py",
   "mimetype": "text/x-python",
   "name": "python",
   "nbconvert_exporter": "python",
   "pygments_lexer": "ipython3",
   "version": "3.9.7"
  }
 },
 "nbformat": 4,
 "nbformat_minor": 5
}
